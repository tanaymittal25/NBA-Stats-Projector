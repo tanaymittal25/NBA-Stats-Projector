{
 "cells": [
  {
   "cell_type": "markdown",
   "metadata": {},
   "source": [
    "# Cleaning Data"
   ]
  },
  {
   "cell_type": "code",
   "execution_count": null,
   "metadata": {},
   "outputs": [],
   "source": [
    "import pandas as pd\n",
    "import numpy as np\n",
    "import matplotlib.pyplot as plt\n",
    "%matplotlib inline"
   ]
  },
  {
   "cell_type": "code",
   "execution_count": null,
   "metadata": {},
   "outputs": [],
   "source": [
    "stats = [\n",
    "    'pts',\n",
    "    'min',\n",
    "    'fmg',\n",
    "    'fga',\n",
    "    'fg3m',\n",
    "    'fg3a',\n",
    "    'ftm',\n",
    "    'fta',\n",
    "    'oreb',\n",
    "    'dreb',\n",
    "    'ast',\n",
    "    'stl',\n",
    "    'tov',\n",
    "    'blk'\n",
    "]"
   ]
  },
  {
   "cell_type": "code",
   "execution_count": null,
   "metadata": {},
   "outputs": [],
   "source": [
    "df = pd.read_csv('player_per_game_data.csv', header = 0)"
   ]
  },
  {
   "cell_type": "code",
   "execution_count": null,
   "metadata": {},
   "outputs": [],
   "source": [
    "df.head(10)"
   ]
  },
  {
   "cell_type": "code",
   "execution_count": null,
   "metadata": {},
   "outputs": [],
   "source": [
    "df.tail(10)"
   ]
  },
  {
   "cell_type": "code",
   "execution_count": null,
   "metadata": {},
   "outputs": [],
   "source": [
    "df.sample(10)"
   ]
  },
  {
   "cell_type": "code",
   "execution_count": null,
   "metadata": {},
   "outputs": [],
   "source": [
    "list(df)"
   ]
  },
  {
   "cell_type": "code",
   "execution_count": null,
   "metadata": {},
   "outputs": [],
   "source": [
    "df_cleaned = df.dropna(how = 'all')"
   ]
  },
  {
   "cell_type": "code",
   "execution_count": null,
   "metadata": {},
   "outputs": [],
   "source": [
    "df_cleaned['gp'].describe()"
   ]
  },
  {
   "cell_type": "code",
   "execution_count": null,
   "metadata": {
    "scrolled": true
   },
   "outputs": [],
   "source": [
    "bin_values = np.arange(start = 0, stop = 80, step = 2)\n",
    "df_cleaned['gp'].hist(bins = bin_values, figsize = [14,6])"
   ]
  },
  {
   "cell_type": "code",
   "execution_count": null,
   "metadata": {},
   "outputs": [],
   "source": [
    "min_gp = 10\n",
    "df_filter = df_cleaned[df_cleaned['gp'] > min_gp]"
   ]
  },
  {
   "cell_type": "code",
   "execution_count": null,
   "metadata": {},
   "outputs": [],
   "source": [
    "df_cleaned['player_id'].count() - df_filter['player_id'].count()"
   ]
  },
  {
   "cell_type": "markdown",
   "metadata": {},
   "source": [
    "# Normalising Data - All Seasons"
   ]
  },
  {
   "cell_type": "code",
   "execution_count": null,
   "metadata": {},
   "outputs": [],
   "source": [
    "season = (df_filter['season_id'] == '2017-18')"
   ]
  },
  {
   "cell_type": "code",
   "execution_count": null,
   "metadata": {},
   "outputs": [],
   "source": [
    "df_2018 =df_filter[season]"
   ]
  },
  {
   "cell_type": "code",
   "execution_count": null,
   "metadata": {},
   "outputs": [],
   "source": [
    "df_2018.sample(10)"
   ]
  },
  {
   "cell_type": "code",
   "execution_count": null,
   "metadata": {},
   "outputs": [],
   "source": [
    "df_2018['pts_norm'] = (df_2018['pts'] - df_2018['pts'].min()) / (df_2018['pts'].max() - df_2018['pts'].min())"
   ]
  },
  {
   "cell_type": "code",
   "execution_count": null,
   "metadata": {},
   "outputs": [],
   "source": [
    "df_2018.sort_values('pts_norm', ascending=False).head(10)"
   ]
  },
  {
   "cell_type": "code",
   "execution_count": null,
   "metadata": {},
   "outputs": [],
   "source": [
    "def normalize(col):\n",
    "    return (col - col.min()) / (col.max() - col.min())"
   ]
  },
  {
   "cell_type": "code",
   "execution_count": null,
   "metadata": {},
   "outputs": [],
   "source": [
    "normalize(df_2018['fgm'])"
   ]
  },
  {
   "cell_type": "code",
   "execution_count": null,
   "metadata": {},
   "outputs": [],
   "source": [
    "cols_to_norm = [\n",
    "    'pts',\n",
    "    'min',\n",
    "    'fgm',\n",
    "    'fga',\n",
    "    'fg3m',\n",
    "    'fg3a',\n",
    "    'ftm',\n",
    "    'fta',\n",
    "    'oreb',\n",
    "    'dreb',\n",
    "    'ast',\n",
    "    'stl',\n",
    "    'tov',\n",
    "    'blk'\n",
    "]"
   ]
  },
  {
   "cell_type": "code",
   "execution_count": null,
   "metadata": {},
   "outputs": [],
   "source": [
    "def norm_var(df):\n",
    "    for col_name in cols_to_norm:\n",
    "        df['{}_norm'.format(col_name)] = normalize(df[col_name])\n",
    "    return df"
   ]
  },
  {
   "cell_type": "code",
   "execution_count": null,
   "metadata": {},
   "outputs": [],
   "source": [
    "df_2018_norm = norm_var(df_2018)"
   ]
  },
  {
   "cell_type": "code",
   "execution_count": null,
   "metadata": {},
   "outputs": [],
   "source": [
    "df_2018_norm.sample(10)"
   ]
  },
  {
   "cell_type": "code",
   "execution_count": null,
   "metadata": {},
   "outputs": [],
   "source": [
    "grouped = df_filter.groupby('season_id')\n",
    "grouped['pts'].mean()"
   ]
  },
  {
   "cell_type": "code",
   "execution_count": null,
   "metadata": {},
   "outputs": [],
   "source": [
    "df_new = df_filter.groupby(['season_id']).apply(norm_var)\n",
    "df_new.sample(10)"
   ]
  },
  {
   "cell_type": "markdown",
   "metadata": {},
   "source": [
    "# Distance Function"
   ]
  },
  {
   "cell_type": "code",
   "execution_count": null,
   "metadata": {},
   "outputs": [],
   "source": [
    "def calc_distance(u, v):\n",
    "    dist = np.sqrt(np.sum((u - v)**2))\n",
    "    return dist"
   ]
  },
  {
   "cell_type": "code",
   "execution_count": null,
   "metadata": {},
   "outputs": [],
   "source": [
    "df1 = pd.read_csv('player_id_player_name.csv')"
   ]
  },
  {
   "cell_type": "code",
   "execution_count": null,
   "metadata": {},
   "outputs": [],
   "source": [
    "df2 = pd.read_csv('player_per_game_data.csv', usecols=['player_id', 'season_id', 'pts'])"
   ]
  },
  {
   "cell_type": "code",
   "execution_count": null,
   "metadata": {},
   "outputs": [],
   "source": [
    "df1.sample(5)"
   ]
  },
  {
   "cell_type": "code",
   "execution_count": null,
   "metadata": {},
   "outputs": [],
   "source": [
    "df2.sample(5)"
   ]
  },
  {
   "cell_type": "code",
   "execution_count": null,
   "metadata": {},
   "outputs": [],
   "source": [
    "df3 = pd.merge(df1, df2, on='player_id', how='left')"
   ]
  },
  {
   "cell_type": "code",
   "execution_count": null,
   "metadata": {},
   "outputs": [],
   "source": [
    "df3.sample(5)"
   ]
  },
  {
   "cell_type": "code",
   "execution_count": null,
   "metadata": {},
   "outputs": [],
   "source": [
    "df_2019 = df3[df3['season_id'] == '2018-19']"
   ]
  },
  {
   "cell_type": "code",
   "execution_count": null,
   "metadata": {},
   "outputs": [],
   "source": [
    "df_2019.sample(5)"
   ]
  },
  {
   "cell_type": "code",
   "execution_count": null,
   "metadata": {},
   "outputs": [],
   "source": [
    "dame_df = df_2019[df_2019['player_name'] == 'Damian Lillard']\n",
    "curry_df = df_2019[df_2019['player_name'] == 'Stephen Curry']\n",
    "rudy_df = df_2019[df_2019['player_name'] == 'Rudy Gobert']"
   ]
  },
  {
   "cell_type": "code",
   "execution_count": null,
   "metadata": {},
   "outputs": [],
   "source": [
    "dame_ppg = dame_df.pts.tolist()[0]\n",
    "curry_ppg = curry_df.pts.tolist()[0]\n",
    "rudy_ppg = rudy_df.pts.tolist()[0]"
   ]
  },
  {
   "cell_type": "code",
   "execution_count": null,
   "metadata": {},
   "outputs": [],
   "source": [
    "calc_distance(dame_ppg, curry_ppg)"
   ]
  },
  {
   "cell_type": "code",
   "execution_count": null,
   "metadata": {},
   "outputs": [],
   "source": [
    "calc_distance(dame_ppg, rudy_ppg)"
   ]
  },
  {
   "cell_type": "code",
   "execution_count": null,
   "metadata": {},
   "outputs": [],
   "source": [
    "calc_distance(curry_ppg, dame_ppg)"
   ]
  },
  {
   "cell_type": "markdown",
   "metadata": {},
   "source": [
    "# Find Player Function"
   ]
  },
  {
   "cell_type": "code",
   "execution_count": null,
   "metadata": {},
   "outputs": [],
   "source": [
    "nba_stats = {'first_name': ['Lebron', 'Kyle', 'Lonzo', 'Brandon', 'Josh', 'Lance', 'Michael', 'Tyson', 'Ivica'], \n",
    "        'last_name': ['James', 'Kuzma', 'Ball', 'Ingram', 'Hart', 'Stephenson', 'Beasley', 'Chander', 'Zubac'], \n",
    "        'ppg': [28.2, 21.1, 14.3, 17.2, 18.2, 11.2, 14.2, 4.5, 6.7], \n",
    "        'apg': [12.3, 2.1, 8.9, 2.5, 3.6, 0.2, 1.8, 1.9, 1.5],\n",
    "        'rpg': [7.1, 5.4, 5.5, 8.1, 3.2, 5.5, 7.7, 2.3, 8.1]}\n",
    "laker_df = pd.DataFrame(nba_stats, columns = ['first_name', 'last_name', 'ppg', 'apg', 'rpg'])"
   ]
  },
  {
   "cell_type": "code",
   "execution_count": null,
   "metadata": {},
   "outputs": [],
   "source": [
    "for row in laker_df.itertuples():\n",
    "    print(row.first_name, row.last_name, row.ppg)"
   ]
  },
  {
   "cell_type": "code",
   "execution_count": null,
   "metadata": {},
   "outputs": [],
   "source": [
    "dataframe = pd.read_csv('player_per_game_data.csv', header = 0)"
   ]
  },
  {
   "cell_type": "code",
   "execution_count": null,
   "metadata": {},
   "outputs": [],
   "source": [
    "df_example = dataframe.sample(10)"
   ]
  },
  {
   "cell_type": "code",
   "execution_count": null,
   "metadata": {},
   "outputs": [],
   "source": [
    "for row in df_example.itertuples():\n",
    "    print(row.season_id, row.player_id)"
   ]
  },
  {
   "cell_type": "code",
   "execution_count": null,
   "metadata": {},
   "outputs": [],
   "source": [
    "def find_player(player_id, player_season):\n",
    "    for row in df_example.itertuples():\n",
    "        if player_season == row.season_id and player_id == row.player_id:\n",
    "            return row"
   ]
  },
  {
   "cell_type": "code",
   "execution_count": null,
   "metadata": {},
   "outputs": [],
   "source": [
    "df_example"
   ]
  },
  {
   "cell_type": "code",
   "execution_count": null,
   "metadata": {},
   "outputs": [],
   "source": [
    "find_player(201942,'2009-10')"
   ]
  },
  {
   "cell_type": "code",
   "execution_count": null,
   "metadata": {},
   "outputs": [],
   "source": [
    "find_player(201942,'2019-20')"
   ]
  },
  {
   "cell_type": "code",
   "execution_count": null,
   "metadata": {},
   "outputs": [],
   "source": [
    "def find_player(df, player_id, player_season):\n",
    "    for row in df.itertuples():\n",
    "        if player_season == row.season_id and player_id == row.player_id:\n",
    "            return row"
   ]
  },
  {
   "cell_type": "code",
   "execution_count": null,
   "metadata": {},
   "outputs": [],
   "source": [
    "dataframe.dtypes"
   ]
  },
  {
   "cell_type": "code",
   "execution_count": null,
   "metadata": {},
   "outputs": [],
   "source": [
    "player = 2544\n",
    "season = '2012-13'"
   ]
  },
  {
   "cell_type": "code",
   "execution_count": null,
   "metadata": {},
   "outputs": [],
   "source": [
    "find_player(dataframe, player, season)"
   ]
  },
  {
   "cell_type": "markdown",
   "metadata": {},
   "source": [
    "# Calculating Player Similarity"
   ]
  },
  {
   "cell_type": "code",
   "execution_count": null,
   "metadata": {},
   "outputs": [],
   "source": [
    "current_player_season = '2016-17'\n",
    "current_player_id = 201950"
   ]
  },
  {
   "cell_type": "code",
   "execution_count": null,
   "metadata": {},
   "outputs": [],
   "source": [
    "df = pd.read_csv('player_per_game_data.csv', header = 0)"
   ]
  },
  {
   "cell_type": "code",
   "execution_count": null,
   "metadata": {},
   "outputs": [],
   "source": [
    "df_cleaned = df.dropna(how='all')"
   ]
  },
  {
   "cell_type": "code",
   "execution_count": null,
   "metadata": {},
   "outputs": [],
   "source": [
    "min_gp = 10\n",
    "df_filter = df_cleaned[df_cleaned['gp'] > min_gp]"
   ]
  },
  {
   "cell_type": "code",
   "execution_count": null,
   "metadata": {},
   "outputs": [],
   "source": [
    "cols_to_norm = ['pts',\n",
    "    'min',\n",
    "    'fgm',\n",
    "    'fga',\n",
    "    'fg3m',\n",
    "    'fg3a',\n",
    "    'ftm',\n",
    "    'fta',\n",
    "    'oreb',\n",
    "    'dreb',\n",
    "    'ast',\n",
    "    'stl',\n",
    "    'tov',\n",
    "    'blk']"
   ]
  },
  {
   "cell_type": "code",
   "execution_count": null,
   "metadata": {},
   "outputs": [],
   "source": [
    "def norm_var(df):\n",
    "    for col_name in cols_to_norm:\n",
    "        df['{}_norm'.format(col_name)] = normalize(df[col_name])\n",
    "    return df"
   ]
  },
  {
   "cell_type": "code",
   "execution_count": null,
   "metadata": {},
   "outputs": [],
   "source": [
    "df_norm = df_filter.groupby(['season_id']).apply(norm_var)"
   ]
  },
  {
   "cell_type": "code",
   "execution_count": null,
   "metadata": {},
   "outputs": [],
   "source": [
    "jrue_pts_norm = (df_norm.loc[(df_norm['player_id'] == current_player_id) \n",
    "             & (df_norm['season_id'] == current_player_season), \n",
    "             'pts_norm']).item()"
   ]
  },
  {
   "cell_type": "code",
   "execution_count": null,
   "metadata": {},
   "outputs": [],
   "source": [
    "jrue_pts_norm"
   ]
  },
  {
   "cell_type": "code",
   "execution_count": null,
   "metadata": {},
   "outputs": [],
   "source": [
    "current_player_stats = [\n",
    "    (df_norm.loc[(df_norm['player_id'] == current_player_id) & (df_norm['season_id'] == current_player_season), 'pts_norm']).item(),\n",
    "    (df_norm.loc[(df_norm['player_id'] == current_player_id) & (df_norm['season_id'] == current_player_season), 'min_norm']).item(),\n",
    "    (df_norm.loc[(df_norm['player_id'] == current_player_id) & (df_norm['season_id'] == current_player_season), 'fgm_norm']).item(),\n",
    "    (df_norm.loc[(df_norm['player_id'] == current_player_id) & (df_norm['season_id'] == current_player_season), 'fga_norm']).item(),\n",
    "    (df_norm.loc[(df_norm['player_id'] == current_player_id) & (df_norm['season_id'] == current_player_season), 'fg3m_norm']).item(),\n",
    "    (df_norm.loc[(df_norm['player_id'] == current_player_id) & (df_norm['season_id'] == current_player_season), 'fg3a_norm']).item(),\n",
    "    (df_norm.loc[(df_norm['player_id'] == current_player_id) & (df_norm['season_id'] == current_player_season), 'ftm_norm']).item(),\n",
    "    (df_norm.loc[(df_norm['player_id'] == current_player_id) & (df_norm['season_id'] == current_player_season), 'fta_norm']).item(),\n",
    "    (df_norm.loc[(df_norm['player_id'] == current_player_id) & (df_norm['season_id'] == current_player_season), 'oreb_norm']).item(),\n",
    "    (df_norm.loc[(df_norm['player_id'] == current_player_id) & (df_norm['season_id'] == current_player_season), 'dreb_norm']).item(),\n",
    "    (df_norm.loc[(df_norm['player_id'] == current_player_id) & (df_norm['season_id'] == current_player_season), 'ast_norm']).item(),\n",
    "    (df_norm.loc[(df_norm['player_id'] == current_player_id) & (df_norm['season_id'] == current_player_season), 'stl_norm']).item(),\n",
    "    (df_norm.loc[(df_norm['player_id'] == current_player_id) & (df_norm['season_id'] == current_player_season), 'tov_norm']).item(),\n",
    "    (df_norm.loc[(df_norm['player_id'] == current_player_id) & (df_norm['season_id'] == current_player_season), 'blk_norm']).item()\n",
    "]"
   ]
  },
  {
   "cell_type": "code",
   "execution_count": null,
   "metadata": {},
   "outputs": [],
   "source": [
    "print(current_player_stats)"
   ]
  },
  {
   "cell_type": "code",
   "execution_count": null,
   "metadata": {},
   "outputs": [],
   "source": [
    "current_player_vector = np.array([\n",
    "    (df_norm.loc[(df_norm['player_id'] == current_player_id) & (df_norm['season_id'] == current_player_season), 'pts_norm']).item(),\n",
    "    (df_norm.loc[(df_norm['player_id'] == current_player_id) & (df_norm['season_id'] == current_player_season), 'min_norm']).item(),\n",
    "    (df_norm.loc[(df_norm['player_id'] == current_player_id) & (df_norm['season_id'] == current_player_season), 'fgm_norm']).item(),\n",
    "    (df_norm.loc[(df_norm['player_id'] == current_player_id) & (df_norm['season_id'] == current_player_season), 'fga_norm']).item(),\n",
    "    (df_norm.loc[(df_norm['player_id'] == current_player_id) & (df_norm['season_id'] == current_player_season), 'fg3m_norm']).item(),\n",
    "    (df_norm.loc[(df_norm['player_id'] == current_player_id) & (df_norm['season_id'] == current_player_season), 'fg3a_norm']).item(),\n",
    "    (df_norm.loc[(df_norm['player_id'] == current_player_id) & (df_norm['season_id'] == current_player_season), 'ftm_norm']).item(),\n",
    "    (df_norm.loc[(df_norm['player_id'] == current_player_id) & (df_norm['season_id'] == current_player_season), 'fta_norm']).item(),\n",
    "    (df_norm.loc[(df_norm['player_id'] == current_player_id) & (df_norm['season_id'] == current_player_season), 'oreb_norm']).item(),\n",
    "    (df_norm.loc[(df_norm['player_id'] == current_player_id) & (df_norm['season_id'] == current_player_season), 'dreb_norm']).item(),\n",
    "    (df_norm.loc[(df_norm['player_id'] == current_player_id) & (df_norm['season_id'] == current_player_season), 'ast_norm']).item(),\n",
    "    (df_norm.loc[(df_norm['player_id'] == current_player_id) & (df_norm['season_id'] == current_player_season), 'stl_norm']).item(),\n",
    "    (df_norm.loc[(df_norm['player_id'] == current_player_id) & (df_norm['season_id'] == current_player_season), 'tov_norm']).item(),\n",
    "    (df_norm.loc[(df_norm['player_id'] == current_player_id) & (df_norm['season_id'] == current_player_season), 'blk_norm']).item()\n",
    "])"
   ]
  },
  {
   "cell_type": "code",
   "execution_count": null,
   "metadata": {},
   "outputs": [],
   "source": [
    "current_player_vector"
   ]
  },
  {
   "cell_type": "code",
   "execution_count": null,
   "metadata": {},
   "outputs": [],
   "source": [
    "compared_player_season = '2013-14'\n",
    "compared_player_id = 203077"
   ]
  },
  {
   "cell_type": "code",
   "execution_count": null,
   "metadata": {},
   "outputs": [],
   "source": [
    "compared_player_vector = np.array([\n",
    "    (df_norm.loc[(df_norm['player_id'] == compared_player_id) & (df_norm['season_id'] == compared_player_season), 'pts_norm']).item(),\n",
    "    (df_norm.loc[(df_norm['player_id'] == compared_player_id) & (df_norm['season_id'] == compared_player_season), 'min_norm']).item(),\n",
    "    (df_norm.loc[(df_norm['player_id'] == compared_player_id) & (df_norm['season_id'] == compared_player_season), 'fgm_norm']).item(),\n",
    "    (df_norm.loc[(df_norm['player_id'] == compared_player_id) & (df_norm['season_id'] == compared_player_season), 'fga_norm']).item(),\n",
    "    (df_norm.loc[(df_norm['player_id'] == compared_player_id) & (df_norm['season_id'] == compared_player_season), 'fg3m_norm']).item(),\n",
    "    (df_norm.loc[(df_norm['player_id'] == compared_player_id) & (df_norm['season_id'] == compared_player_season), 'fg3a_norm']).item(),\n",
    "    (df_norm.loc[(df_norm['player_id'] == compared_player_id) & (df_norm['season_id'] == compared_player_season), 'ftm_norm']).item(),\n",
    "    (df_norm.loc[(df_norm['player_id'] == compared_player_id) & (df_norm['season_id'] == compared_player_season), 'fta_norm']).item(),\n",
    "    (df_norm.loc[(df_norm['player_id'] == compared_player_id) & (df_norm['season_id'] == compared_player_season), 'oreb_norm']).item(),\n",
    "    (df_norm.loc[(df_norm['player_id'] == compared_player_id) & (df_norm['season_id'] == compared_player_season), 'dreb_norm']).item(),\n",
    "    (df_norm.loc[(df_norm['player_id'] == compared_player_id) & (df_norm['season_id'] == compared_player_season), 'ast_norm']).item(),\n",
    "    (df_norm.loc[(df_norm['player_id'] == compared_player_id) & (df_norm['season_id'] == compared_player_season), 'stl_norm']).item(),\n",
    "    (df_norm.loc[(df_norm['player_id'] == compared_player_id) & (df_norm['season_id'] == compared_player_season), 'tov_norm']).item(),\n",
    "    (df_norm.loc[(df_norm['player_id'] == compared_player_id) & (df_norm['season_id'] == compared_player_season), 'blk_norm']).item()\n",
    "])"
   ]
  },
  {
   "cell_type": "code",
   "execution_count": null,
   "metadata": {},
   "outputs": [],
   "source": [
    "compared_player_vector"
   ]
  },
  {
   "cell_type": "code",
   "execution_count": null,
   "metadata": {},
   "outputs": [],
   "source": [
    "vfunc = np.vectorize(calc_distance)"
   ]
  },
  {
   "cell_type": "code",
   "execution_count": null,
   "metadata": {},
   "outputs": [],
   "source": [
    "distance_vect = vfunc(current_player_vector, compared_player_vector)"
   ]
  },
  {
   "cell_type": "code",
   "execution_count": null,
   "metadata": {},
   "outputs": [],
   "source": [
    "distance_vect"
   ]
  },
  {
   "cell_type": "code",
   "execution_count": null,
   "metadata": {},
   "outputs": [],
   "source": [
    "number = np.sum(np.abs(distance_vect)) / len(distance_vect)"
   ]
  },
  {
   "cell_type": "code",
   "execution_count": null,
   "metadata": {},
   "outputs": [],
   "source": [
    "number"
   ]
  },
  {
   "cell_type": "markdown",
   "metadata": {},
   "source": [
    "# Comparing Multiple Players in a For Loop"
   ]
  },
  {
   "cell_type": "code",
   "execution_count": null,
   "metadata": {},
   "outputs": [],
   "source": [
    "player_distance = []"
   ]
  },
  {
   "cell_type": "code",
   "execution_count": null,
   "metadata": {},
   "outputs": [],
   "source": [
    "df_sample = df_norm.sample(10)"
   ]
  },
  {
   "cell_type": "code",
   "execution_count": null,
   "metadata": {},
   "outputs": [],
   "source": [
    "df_sample.head(10)"
   ]
  },
  {
   "cell_type": "code",
   "execution_count": null,
   "metadata": {},
   "outputs": [],
   "source": [
    "for row in df_sample.itertuples():\n",
    "    compared_player_vector = np.array([\n",
    "    row.pts_norm,\n",
    "    row.min_norm,\n",
    "    row.fgm_norm,\n",
    "    row.fga_norm,\n",
    "    row.fg3m_norm,\n",
    "    row.fg3a_norm,\n",
    "    row.ftm_norm,\n",
    "    row.fta_norm,\n",
    "    row.oreb_norm,\n",
    "    row.dreb_norm,\n",
    "    row.ast_norm,\n",
    "    row.stl_norm,\n",
    "    row.tov_norm,\n",
    "    row.blk_norm\n",
    "    ])\n",
    "\n",
    "    vfunc = np.vectorize(calc_distance)\n",
    "    distance_vect = vfunc(current_player_vector, compared_player_vector)\n",
    "    number = np.sum(np.abs(distance_vect)) / len(distance_vect)\n",
    "    player_distance.append(number)\n",
    "    player = row.player_id\n",
    "    print('Done with ' + str(player) + '. Percent error was ' + str(number))"
   ]
  },
  {
   "cell_type": "code",
   "execution_count": null,
   "metadata": {},
   "outputs": [],
   "source": [
    "player_distance"
   ]
  },
  {
   "cell_type": "code",
   "execution_count": null,
   "metadata": {},
   "outputs": [],
   "source": [
    "df_sample['distance'] = player_distance"
   ]
  },
  {
   "cell_type": "code",
   "execution_count": null,
   "metadata": {},
   "outputs": [],
   "source": [
    "ranked_df = df_sample.sort_values('distance')"
   ]
  },
  {
   "cell_type": "code",
   "execution_count": null,
   "metadata": {},
   "outputs": [],
   "source": [
    "ranked_df.head(10)"
   ]
  },
  {
   "cell_type": "code",
   "execution_count": null,
   "metadata": {},
   "outputs": [],
   "source": [
    "df1 = pd.read_csv('player_info.csv')"
   ]
  },
  {
   "cell_type": "code",
   "execution_count": null,
   "metadata": {},
   "outputs": [],
   "source": [
    "df_final = pd.merge(ranked_df, df1, on=['player_id', 'season_id'], how='left').drop_duplicates()"
   ]
  },
  {
   "cell_type": "code",
   "execution_count": null,
   "metadata": {},
   "outputs": [],
   "source": [
    "df_final = df_final[['player_name', 'player_id', 'season_id', 'distance']]"
   ]
  },
  {
   "cell_type": "code",
   "execution_count": null,
   "metadata": {},
   "outputs": [],
   "source": [
    "df_final"
   ]
  },
  {
   "cell_type": "markdown",
   "metadata": {},
   "source": [
    "# Weighting Stat Projections"
   ]
  },
  {
   "cell_type": "code",
   "execution_count": null,
   "metadata": {},
   "outputs": [],
   "source": [
    "season_list = [\n",
    "    '1996-97',\n",
    "    '1997-98',\n",
    "    '1998-99',\n",
    "    '1999-00',\n",
    "    '2000-01',\n",
    "    '2001-02',\n",
    "    '2002-03',\n",
    "    '2003-04',\n",
    "    '2004-05',\n",
    "    '2005-06',\n",
    "    '2006-07',\n",
    "    '2007-08',\n",
    "    '2008-09',\n",
    "    '2009-10',\n",
    "    '2010-11',\n",
    "    '2011-12',\n",
    "    '2012-13',\n",
    "    '2013-14',\n",
    "    '2014-15',\n",
    "    '2015-16',\n",
    "    '2016-17',\n",
    "    '2017-18',\n",
    "    '2018-19'\n",
    "]"
   ]
  },
  {
   "cell_type": "code",
   "execution_count": null,
   "metadata": {},
   "outputs": [],
   "source": [
    "season_id = season_list[18]\n",
    "print(season_id)"
   ]
  },
  {
   "cell_type": "code",
   "execution_count": null,
   "metadata": {},
   "outputs": [],
   "source": [
    "season_id = '2014-15'\n",
    "value = season_list.index(season_id)\n",
    "print(value)"
   ]
  },
  {
   "cell_type": "code",
   "execution_count": null,
   "metadata": {},
   "outputs": [],
   "source": [
    "current_season = season_list[(season_list.index(season_id))]\n",
    "print(current_season)"
   ]
  },
  {
   "cell_type": "code",
   "execution_count": null,
   "metadata": {},
   "outputs": [],
   "source": [
    "next_season = season_list[(season_list.index(season_id) + 1)]\n",
    "print(next_season)"
   ]
  },
  {
   "cell_type": "code",
   "execution_count": null,
   "metadata": {},
   "outputs": [],
   "source": [
    "ranked_df.head(10)"
   ]
  },
  {
   "cell_type": "code",
   "execution_count": null,
   "metadata": {},
   "outputs": [],
   "source": [
    "print(current_player_id)\n",
    "print(current_player_season)"
   ]
  },
  {
   "cell_type": "code",
   "execution_count": null,
   "metadata": {},
   "outputs": [],
   "source": [
    "test_df = ranked_df.iloc[0]"
   ]
  },
  {
   "cell_type": "code",
   "execution_count": null,
   "metadata": {},
   "outputs": [],
   "source": [
    "weight = (1 / test_df.distance)\n",
    "print(weight)"
   ]
  },
  {
   "cell_type": "code",
   "execution_count": null,
   "metadata": {},
   "outputs": [],
   "source": [
    "stats = ['pts',\n",
    "         'min',\n",
    "         'fgm',\n",
    "         'fga',\n",
    "         'fg3m',\n",
    "         'fg3a',\n",
    "         'ftm',\n",
    "         'fta',\n",
    "         'oreb',\n",
    "         'dreb',\n",
    "         'ast',\n",
    "         'stl',\n",
    "         'tov',\n",
    "         'blk']"
   ]
  },
  {
   "cell_type": "code",
   "execution_count": null,
   "metadata": {},
   "outputs": [],
   "source": [
    "projected_stats = {}"
   ]
  },
  {
   "cell_type": "code",
   "execution_count": null,
   "metadata": {},
   "outputs": [],
   "source": [
    "for col in stats:\n",
    "    sum_stat = test_df[col] * weight\n",
    "    projected_stats['proj_' + col] = (sum_stat / weight)"
   ]
  },
  {
   "cell_type": "code",
   "execution_count": null,
   "metadata": {},
   "outputs": [],
   "source": [
    "projected_stats"
   ]
  },
  {
   "cell_type": "code",
   "execution_count": null,
   "metadata": {},
   "outputs": [],
   "source": [
    "projected_stats = {}"
   ]
  },
  {
   "cell_type": "code",
   "execution_count": null,
   "metadata": {},
   "outputs": [],
   "source": [
    "sum_stat = 0\n",
    "sum_weight = 0"
   ]
  },
  {
   "cell_type": "code",
   "execution_count": null,
   "metadata": {},
   "outputs": [],
   "source": [
    "for row in ranked_df.itertuples():\n",
    "    weight = (1 / row.distance)\n",
    "    sum_stat += row.pts * weight\n",
    "    sum_weight += weight"
   ]
  },
  {
   "cell_type": "code",
   "execution_count": null,
   "metadata": {},
   "outputs": [],
   "source": [
    "proj_points = (sum_stat / sum_weight)"
   ]
  },
  {
   "cell_type": "code",
   "execution_count": null,
   "metadata": {},
   "outputs": [],
   "source": [
    "proj_points"
   ]
  },
  {
   "cell_type": "code",
   "execution_count": null,
   "metadata": {},
   "outputs": [],
   "source": [
    "for col in stats:\n",
    "    sum_stat = 0\n",
    "    sum_weight = 0\n",
    "    for index, row in ranked_df.iterrows():\n",
    "        weight = (1 / row.distance)\n",
    "        sum_stat += row[col] * weight\n",
    "        sum_weight += weight\n",
    "    projected_stats['player_id'] = current_player_id\n",
    "    projected_stats['proj_season_id'] = season_list[(season_list.index(current_player_season) + 1)]\n",
    "    projected_stats['proj_' + col] = (sum_stat / sum_weight)"
   ]
  },
  {
   "cell_type": "code",
   "execution_count": null,
   "metadata": {},
   "outputs": [],
   "source": [
    "projected_stats"
   ]
  },
  {
   "cell_type": "markdown",
   "metadata": {},
   "source": [
    "# Getting Weighted Average Using Multiple Players Next Season"
   ]
  },
  {
   "cell_type": "code",
   "execution_count": null,
   "metadata": {},
   "outputs": [],
   "source": [
    "for col in stats:\n",
    "    sum_stat = 0\n",
    "    sum_weight = 1\n",
    "    for index, row in ranked_df.iloc[1:11].iterrows():\n",
    "        if row.season_id == '2017-18':\n",
    "            continue\n",
    "        weight = (1 / row.distance)\n",
    "        next_season = season_list[(season_list.index(row.season_id) + 1)]\n",
    "        player_next_season = find_player(ranked_df, row.player_id, next_season)\n",
    "        if player_next_season == None:\n",
    "            continue\n",
    "        sum_stat += getattr(player_next_season, col) * weight\n",
    "        sum_weight += weight\n",
    "    projected_stats['player_id'] = current_player_id\n",
    "    projected_stats['proj_season_id'] = season_list[(season_list.index(current_player_season) + 1)]\n",
    "    projected_stats['proj_' + col] = (sum_stat / sum_weight)"
   ]
  },
  {
   "cell_type": "markdown",
   "metadata": {},
   "source": [
    "# Player Comparison Tool"
   ]
  },
  {
   "cell_type": "code",
   "execution_count": null,
   "metadata": {},
   "outputs": [],
   "source": [
    "def player_comparison_tool(df, current_player_season, current_player_id):\n",
    "    if (((df['season_id'] == current_player_season) & (df['player_id'] == current_player_id)).any() == False):\n",
    "        print('Can\\'t find player with id {} and season {}'.format(current_player_id, current_player_season))\n",
    "        return\n",
    "    return projected_stats"
   ]
  },
  {
   "cell_type": "code",
   "execution_count": null,
   "metadata": {},
   "outputs": [],
   "source": [
    "def player_comparison_tool(df, current_player_season, current_player_id):\n",
    "    if (((df['season_id'] == current_player_season) & (df['player_id'] == current_player_id)).any() == False):\n",
    "        print('Can\\'t find player with id {} and season {}'.format(current_player_id, current_player_season))\n",
    "        return\n",
    "    for row in df.itertuples():\n",
    "        if current_player_season == row.season_id and current_player_id == row.player_id:\n",
    "            current_player_id = row.player_id\n",
    "            break\n",
    "            \n",
    "    return projected_stats"
   ]
  },
  {
   "cell_type": "code",
   "execution_count": null,
   "metadata": {},
   "outputs": [],
   "source": [
    "def player_comparison_tool(df, current_player_season, current_player_id):\n",
    "    if (((df['season_id'] == current_player_season) & (df['player_id'] == current_player_id)).any() == False):\n",
    "        print('Can\\'t find player with id {} and season {}'.format(current_player_id, current_player_season))\n",
    "        return\n",
    "    for row in df.itertuples():\n",
    "        if current_player_season == row.season_id and current_player_id == row.player_id:\n",
    "            current_player_id = row.player_id\n",
    "            break\n",
    "      \n",
    "    current_player_vector = np.array([\n",
    "        (df.loc[(df['player_id'] == current_player_id) & (df['season_id'] == current_player_season), 'pts_norm']).item(),\n",
    "        (df.loc[(df['player_id'] == current_player_id) & (df['season_id'] == current_player_season), 'min_norm']).item(),\n",
    "        (df.loc[(df['player_id'] == current_player_id) & (df['season_id'] == current_player_season), 'fgm_norm']).item(),\n",
    "        (df.loc[(df['player_id'] == current_player_id) & (df['season_id'] == current_player_season), 'fga_norm']).item(),\n",
    "        (df.loc[(df['player_id'] == current_player_id) & (df['season_id'] == current_player_season), 'fg3m_norm']).item(),\n",
    "        (df.loc[(df['player_id'] == current_player_id) & (df['season_id'] == current_player_season), 'fg3a_norm']).item(),\n",
    "        (df.loc[(df['player_id'] == current_player_id) & (df['season_id'] == current_player_season), 'ftm_norm']).item(),\n",
    "        (df.loc[(df['player_id'] == current_player_id) & (df['season_id'] == current_player_season), 'fta_norm']).item(),\n",
    "        (df.loc[(df['player_id'] == current_player_id) & (df['season_id'] == current_player_season), 'oreb_norm']).item(),\n",
    "        (df.loc[(df['player_id'] == current_player_id) & (df['season_id'] == current_player_season), 'dreb_norm']).item(),\n",
    "        (df.loc[(df['player_id'] == current_player_id) & (df['season_id'] == current_player_season), 'ast_norm']).item(),\n",
    "        (df.loc[(df['player_id'] == current_player_id) & (df['season_id'] == current_player_season), 'stl_norm']).item(),\n",
    "        (df.loc[(df['player_id'] == current_player_id) & (df['season_id'] == current_player_season), 'tov_norm']).item(),\n",
    "        (df.loc[(df['player_id'] == current_player_id) & (df['season_id'] == current_player_season), 'blk_norm']).item()\n",
    "    ])\n",
    "\n",
    "    print('Projecting player_id {0} for season {1}'.format(current_player_id, season_list[(season_list.index(row.season_id) + 1)]))\n",
    "    \n",
    "    return projected_stats"
   ]
  },
  {
   "cell_type": "code",
   "execution_count": null,
   "metadata": {},
   "outputs": [],
   "source": [
    "def player_comparison_tool(df, current_player_season, current_player_id):\n",
    "    if (((df['season_id'] == current_player_season) & (df['player_id'] == current_player_id)).any() == False):\n",
    "        print('Can\\'t find player with id {} and season {}'.format(current_player_id, current_player_season))\n",
    "        return\n",
    "    for row in df.itertuples():\n",
    "        if current_player_season == row.season_id and current_player_id == row.player_id:\n",
    "            current_player_id = row.player_id\n",
    "            break\n",
    "      \n",
    "    current_player_vector = np.array([\n",
    "        (df.loc[(df['player_id'] == current_player_id) & (df['season_id'] == current_player_season), 'pts_norm']).item(),\n",
    "        (df.loc[(df['player_id'] == current_player_id) & (df['season_id'] == current_player_season), 'min_norm']).item(),\n",
    "        (df.loc[(df['player_id'] == current_player_id) & (df['season_id'] == current_player_season), 'fgm_norm']).item(),\n",
    "        (df.loc[(df['player_id'] == current_player_id) & (df['season_id'] == current_player_season), 'fga_norm']).item(),\n",
    "        (df.loc[(df['player_id'] == current_player_id) & (df['season_id'] == current_player_season), 'fg3m_norm']).item(),\n",
    "        (df.loc[(df['player_id'] == current_player_id) & (df['season_id'] == current_player_season), 'fg3a_norm']).item(),\n",
    "        (df.loc[(df['player_id'] == current_player_id) & (df['season_id'] == current_player_season), 'ftm_norm']).item(),\n",
    "        (df.loc[(df['player_id'] == current_player_id) & (df['season_id'] == current_player_season), 'fta_norm']).item(),\n",
    "        (df.loc[(df['player_id'] == current_player_id) & (df['season_id'] == current_player_season), 'oreb_norm']).item(),\n",
    "        (df.loc[(df['player_id'] == current_player_id) & (df['season_id'] == current_player_season), 'dreb_norm']).item(),\n",
    "        (df.loc[(df['player_id'] == current_player_id) & (df['season_id'] == current_player_season), 'ast_norm']).item(),\n",
    "        (df.loc[(df['player_id'] == current_player_id) & (df['season_id'] == current_player_season), 'stl_norm']).item(),\n",
    "        (df.loc[(df['player_id'] == current_player_id) & (df['season_id'] == current_player_season), 'tov_norm']).item(),\n",
    "        (df.loc[(df['player_id'] == current_player_id) & (df['season_id'] == current_player_season), 'blk_norm']).item()\n",
    "    ])\n",
    "\n",
    "    print('Projecting player_id {0} for season {1}'.format(current_player_id, season_list[(season_list.index(row.season_id) + 1)]))\n",
    "    \n",
    "    player_distance = []\n",
    "    \n",
    "    for row in df.itertuples():\n",
    "        compared_player_vector = np.array([\n",
    "        row.pts_norm,\n",
    "        row.min_norm,\n",
    "        row.fgm_norm,\n",
    "        row.fga_norm,\n",
    "        row.fg3m_norm,\n",
    "        row.fg3a_norm,\n",
    "        row.ftm_norm,\n",
    "        row.fta_norm,\n",
    "        row.oreb_norm,\n",
    "        row.dreb_norm,\n",
    "        row.ast_norm,\n",
    "        row.stl_norm,\n",
    "        row.tov_norm,\n",
    "        row.blk_norm\n",
    "        ])\n",
    "        \n",
    "        vfunc = np.vectorize(calc_distance)\n",
    "        distance_vect = vfunc(current_player_vector, compared_player_vector)\n",
    "        number = np.sum(np.abs(distance_vect)) / len(distance_vect)\n",
    "        player_distance.append(number)\n",
    "    \n",
    "    df['distance'] = player_distance\n",
    "    \n",
    "    ranked_df = df.sort_values('distance')\n",
    "        \n",
    "    return projected_stats"
   ]
  },
  {
   "cell_type": "code",
   "execution_count": null,
   "metadata": {},
   "outputs": [],
   "source": [
    "def player_comparison_tool(df, current_player_season, current_player_id):\n",
    "    if (((df['season_id'] == current_player_season) & (df['player_id'] == current_player_id)).any() == False):\n",
    "        print('Can\\'t find player with id {} and season {}'.format(current_player_id, current_player_season))\n",
    "        return\n",
    "    for row in df.itertuples():\n",
    "        if current_player_season == row.season_id and current_player_id == row.player_id:\n",
    "            current_player_id = row.player_id\n",
    "            break\n",
    "      \n",
    "    current_player_vector = np.array([\n",
    "        (df.loc[(df['player_id'] == current_player_id) & (df['season_id'] == current_player_season), 'pts_norm']).item(),\n",
    "        (df.loc[(df['player_id'] == current_player_id) & (df['season_id'] == current_player_season), 'min_norm']).item(),\n",
    "        (df.loc[(df['player_id'] == current_player_id) & (df['season_id'] == current_player_season), 'fgm_norm']).item(),\n",
    "        (df.loc[(df['player_id'] == current_player_id) & (df['season_id'] == current_player_season), 'fga_norm']).item(),\n",
    "        (df.loc[(df['player_id'] == current_player_id) & (df['season_id'] == current_player_season), 'fg3m_norm']).item(),\n",
    "        (df.loc[(df['player_id'] == current_player_id) & (df['season_id'] == current_player_season), 'fg3a_norm']).item(),\n",
    "        (df.loc[(df['player_id'] == current_player_id) & (df['season_id'] == current_player_season), 'ftm_norm']).item(),\n",
    "        (df.loc[(df['player_id'] == current_player_id) & (df['season_id'] == current_player_season), 'fta_norm']).item(),\n",
    "        (df.loc[(df['player_id'] == current_player_id) & (df['season_id'] == current_player_season), 'oreb_norm']).item(),\n",
    "        (df.loc[(df['player_id'] == current_player_id) & (df['season_id'] == current_player_season), 'dreb_norm']).item(),\n",
    "        (df.loc[(df['player_id'] == current_player_id) & (df['season_id'] == current_player_season), 'ast_norm']).item(),\n",
    "        (df.loc[(df['player_id'] == current_player_id) & (df['season_id'] == current_player_season), 'stl_norm']).item(),\n",
    "        (df.loc[(df['player_id'] == current_player_id) & (df['season_id'] == current_player_season), 'tov_norm']).item(),\n",
    "        (df.loc[(df['player_id'] == current_player_id) & (df['season_id'] == current_player_season), 'blk_norm']).item()\n",
    "    ])\n",
    "\n",
    "    print('Projecting player_id {0} for season {1}'.format(current_player_id, season_list[(season_list.index(row.season_id) + 1)]))\n",
    "    \n",
    "    player_distance = []\n",
    "    \n",
    "    for row in df.itertuples():\n",
    "        compared_player_vector = np.array([\n",
    "        row.pts_norm,\n",
    "        row.min_norm,\n",
    "        row.fgm_norm,\n",
    "        row.fga_norm,\n",
    "        row.fg3m_norm,\n",
    "        row.fg3a_norm,\n",
    "        row.ftm_norm,\n",
    "        row.fta_norm,\n",
    "        row.oreb_norm,\n",
    "        row.dreb_norm,\n",
    "        row.ast_norm,\n",
    "        row.stl_norm,\n",
    "        row.tov_norm,\n",
    "        row.blk_norm\n",
    "        ])\n",
    "        \n",
    "        vfunc = np.vectorize(calc_distance)\n",
    "        distance_vect = vfunc(current_player_vector, compared_player_vector)\n",
    "        number = np.sum(np.abs(distance_vect)) / len(distance_vect)\n",
    "        player_distance.append(number)\n",
    "    \n",
    "    df['distance'] = player_distance\n",
    "    \n",
    "    ranked_df = df.sort_values('distance')\n",
    "        \n",
    "    return projected_stats"
   ]
  },
  {
   "cell_type": "code",
   "execution_count": null,
   "metadata": {},
   "outputs": [],
   "source": [
    "def player_comparison_tool(df, current_player_season, current_player_id):\n",
    "    if (((df['season_id'] == current_player_season) & (df['player_id'] == current_player_id)).any() == False):\n",
    "        print('Can\\'t find player with id {} and season {}'.format(current_player_id, current_player_season))\n",
    "        return\n",
    "    for row in df.itertuples():\n",
    "        if current_player_season == row.season_id and current_player_id == row.player_id:\n",
    "            current_player_id = row.player_id\n",
    "            break\n",
    "      \n",
    "    current_player_vector = np.array([\n",
    "        (df.loc[(df['player_id'] == current_player_id) & (df['season_id'] == current_player_season), 'pts_norm']).item(),\n",
    "        (df.loc[(df['player_id'] == current_player_id) & (df['season_id'] == current_player_season), 'min_norm']).item(),\n",
    "        (df.loc[(df['player_id'] == current_player_id) & (df['season_id'] == current_player_season), 'fgm_norm']).item(),\n",
    "        (df.loc[(df['player_id'] == current_player_id) & (df['season_id'] == current_player_season), 'fga_norm']).item(),\n",
    "        (df.loc[(df['player_id'] == current_player_id) & (df['season_id'] == current_player_season), 'fg3m_norm']).item(),\n",
    "        (df.loc[(df['player_id'] == current_player_id) & (df['season_id'] == current_player_season), 'fg3a_norm']).item(),\n",
    "        (df.loc[(df['player_id'] == current_player_id) & (df['season_id'] == current_player_season), 'ftm_norm']).item(),\n",
    "        (df.loc[(df['player_id'] == current_player_id) & (df['season_id'] == current_player_season), 'fta_norm']).item(),\n",
    "        (df.loc[(df['player_id'] == current_player_id) & (df['season_id'] == current_player_season), 'oreb_norm']).item(),\n",
    "        (df.loc[(df['player_id'] == current_player_id) & (df['season_id'] == current_player_season), 'dreb_norm']).item(),\n",
    "        (df.loc[(df['player_id'] == current_player_id) & (df['season_id'] == current_player_season), 'ast_norm']).item(),\n",
    "        (df.loc[(df['player_id'] == current_player_id) & (df['season_id'] == current_player_season), 'stl_norm']).item(),\n",
    "        (df.loc[(df['player_id'] == current_player_id) & (df['season_id'] == current_player_season), 'tov_norm']).item(),\n",
    "        (df.loc[(df['player_id'] == current_player_id) & (df['season_id'] == current_player_season), 'blk_norm']).item()\n",
    "    ])\n",
    "\n",
    "    print('Projecting player_id {0} for season {1}'.format(current_player_id, season_list[(season_list.index(row.season_id) + 1)]))\n",
    "    \n",
    "    player_distance = []\n",
    "    \n",
    "    weighted_numbers = [1, 1, 1, 1, 1, 1, 1, 1, 1, 1, 1, 1, 1, 1]\n",
    "    \n",
    "    for row in df.itertuples():\n",
    "        compared_player_vector = np.array([\n",
    "        row.pts_norm,\n",
    "        row.min_norm,\n",
    "        row.fgm_norm,\n",
    "        row.fga_norm,\n",
    "        row.fg3m_norm,\n",
    "        row.fg3a_norm,\n",
    "        row.ftm_norm,\n",
    "        row.fta_norm,\n",
    "        row.oreb_norm,\n",
    "        row.dreb_norm,\n",
    "        row.ast_norm,\n",
    "        row.stl_norm,\n",
    "        row.tov_norm,\n",
    "        row.blk_norm\n",
    "        ])\n",
    "        \n",
    "        vfunc = np.vectorize(calc_distance)\n",
    "        distance_vect = vfunc(current_player_vector, compared_player_vector)\n",
    "        weighted_distance = distance_vect * weighted_numbers\n",
    "        #number = np.sum(np.abs(distance_vect)) / len(distance_vect)\n",
    "        number = np.sum(np.abs(weighted_distance)) / len(distance_vect)\n",
    "        player_distance.append(number)\n",
    "    \n",
    "    df['distance'] = player_distance\n",
    "    \n",
    "    ranked_df = df.sort_values('distance')\n",
    "    \n",
    "    stats = ['pts',\n",
    "             'min',\n",
    "             'fgm',\n",
    "             'fga',\n",
    "             'fg3m',\n",
    "             'fg3a',\n",
    "             'ftm',\n",
    "             'fta',\n",
    "             'oreb',\n",
    "             'dreb',\n",
    "             'ast',\n",
    "             'stl',\n",
    "             'tov',\n",
    "             'blk'\n",
    "             ]\n",
    "    \n",
    "    projected_stats = {}\n",
    "    \n",
    "    for col in stats:\n",
    "        sum_stat = 0\n",
    "        sum_weight = 0\n",
    "        for index, row in ranked_df.iloc[1:11].iterrows():\n",
    "            # skip over the row if it was 2017-18 season because we can't take the next\n",
    "            if row.season_id == '2017-18':\n",
    "                continue\n",
    "            # get the players next season\n",
    "            weight = (1 / row.distance)\n",
    "            next_season = season_list[(season_list.index(row.season_id) + 1)]\n",
    "            # find the player row with the id and the next season\n",
    "            player_next_season = find_player(ranked_df, row.player_id, next_season)\n",
    "            # if player_next_season doesn't exist then skip\n",
    "            if player_next_season == None:\n",
    "                continue\n",
    "            sum_stat += getattr(player_next_season, col) * weight\n",
    "            sum_weight += weight\n",
    "        projected_stats['player_id'] = current_player_id\n",
    "        projected_stats['proj_season_id'] = season_list[(season_list.index(current_player_season) + 1)]\n",
    "        projected_stats['proj_' + col] = (sum_stat / sum_weight)\n",
    "        \n",
    "    return projected_stats\n",
    "\n",
    "\n"
   ]
  },
  {
   "cell_type": "markdown",
   "metadata": {},
   "source": [
    "# Projecting 2018-19 Season Stats"
   ]
  },
  {
   "cell_type": "code",
   "execution_count": null,
   "metadata": {},
   "outputs": [],
   "source": [
    "ten_players = [201935,\n",
    "             203081,\n",
    "             201942,\n",
    "             201937,\n",
    "             202339,\n",
    "             203496,\n",
    "             203497,\n",
    "             201567,\n",
    "             202331,\n",
    "             202691]"
   ]
  },
  {
   "cell_type": "code",
   "execution_count": null,
   "metadata": {},
   "outputs": [],
   "source": [
    "current_player_season = '2017-18'"
   ]
  },
  {
   "cell_type": "code",
   "execution_count": null,
   "metadata": {},
   "outputs": [],
   "source": [
    "final_projections = []"
   ]
  },
  {
   "cell_type": "code",
   "execution_count": null,
   "metadata": {},
   "outputs": [],
   "source": [
    "# read in per game data from csv folder\n",
    "df = pd.read_csv('player_per_game_data.csv', header = 0)"
   ]
  },
  {
   "cell_type": "code",
   "execution_count": null,
   "metadata": {},
   "outputs": [],
   "source": [
    "df_new = df[df.season_id != '2018-19']"
   ]
  },
  {
   "cell_type": "code",
   "execution_count": null,
   "metadata": {},
   "outputs": [],
   "source": [
    "df_new.sample(10)"
   ]
  },
  {
   "cell_type": "code",
   "execution_count": null,
   "metadata": {},
   "outputs": [],
   "source": [
    "df_cleaned = df_new.dropna(how='any')"
   ]
  },
  {
   "cell_type": "code",
   "execution_count": null,
   "metadata": {},
   "outputs": [],
   "source": [
    "min_gp = 10\n",
    "df_filter = df_cleaned[df_cleaned['gp'] > min_gp]"
   ]
  },
  {
   "cell_type": "code",
   "execution_count": null,
   "metadata": {},
   "outputs": [],
   "source": [
    "df_final = df_filter.groupby(['season_id']).apply(norm_var)"
   ]
  },
  {
   "cell_type": "code",
   "execution_count": null,
   "metadata": {},
   "outputs": [],
   "source": [
    "df_final.tail(5)"
   ]
  },
  {
   "cell_type": "code",
   "execution_count": null,
   "metadata": {},
   "outputs": [],
   "source": [
    "season_list = [\n",
    "    '1996-97',\n",
    "    '1997-98',\n",
    "    '1998-99',\n",
    "    '1999-00',\n",
    "    '2000-01',\n",
    "    '2001-02',\n",
    "    '2002-03',\n",
    "    '2003-04',\n",
    "    '2004-05',\n",
    "    '2005-06',\n",
    "    '2006-07',\n",
    "    '2007-08',\n",
    "    '2008-09',\n",
    "    '2009-10',\n",
    "    '2010-11',\n",
    "    '2011-12',\n",
    "    '2012-13',\n",
    "    '2013-14',\n",
    "    '2014-15',\n",
    "    '2015-16',\n",
    "    '2016-17',\n",
    "    '2017-18',\n",
    "    '2018-19']"
   ]
  },
  {
   "cell_type": "code",
   "execution_count": null,
   "metadata": {},
   "outputs": [],
   "source": [
    "# function to calculate distance between two points\n",
    "def calc_distance(u, v):\n",
    "    dist = np.sqrt(np.sum((u - v)**2))\n",
    "    return dist\n",
    "\n",
    "# create a function to find the player and the next season\n",
    "def find_player(df, player_id, season):\n",
    "    # replaces for loop\n",
    "    for row in df.itertuples():\n",
    "        if season == row.season_id and player_id == row.player_id:\n",
    "            return row"
   ]
  },
  {
   "cell_type": "code",
   "execution_count": null,
   "metadata": {},
   "outputs": [],
   "source": [
    "for baller_id in ten_players:\n",
    "    current_player_id = baller_id\n",
    "    current_player_season = '2017-18'\n",
    "    projections = player_comparison_tool(df_final, current_player_season, current_player_id)\n",
    "    if (projections == None):\n",
    "        continue\n",
    "    final_projections.append(projections)"
   ]
  },
  {
   "cell_type": "code",
   "execution_count": null,
   "metadata": {},
   "outputs": [],
   "source": [
    "final_projections"
   ]
  },
  {
   "cell_type": "code",
   "execution_count": null,
   "metadata": {},
   "outputs": [],
   "source": [
    "test_projections = pd.DataFrame(final_projections)"
   ]
  },
  {
   "cell_type": "code",
   "execution_count": null,
   "metadata": {},
   "outputs": [],
   "source": [
    "test_projections.sample(5)"
   ]
  },
  {
   "cell_type": "code",
   "execution_count": null,
   "metadata": {},
   "outputs": [],
   "source": [
    "df_names = pd.read_csv('player_id_player_name.csv')"
   ]
  },
  {
   "cell_type": "code",
   "execution_count": null,
   "metadata": {},
   "outputs": [],
   "source": [
    "final_stat_df = pd.merge(test_projections, df_names, left_on=['player_id'], right_on=['player_id'], how='inner')"
   ]
  },
  {
   "cell_type": "code",
   "execution_count": null,
   "metadata": {},
   "outputs": [],
   "source": [
    "round(final_stat_df,1)"
   ]
  },
  {
   "cell_type": "code",
   "execution_count": null,
   "metadata": {},
   "outputs": [],
   "source": [
    "player_df = pd.read_csv('player_info.csv')"
   ]
  },
  {
   "cell_type": "code",
   "execution_count": null,
   "metadata": {},
   "outputs": [],
   "source": [
    "player_filter = player_df[player_df['season_id'] == '2017-18']"
   ]
  },
  {
   "cell_type": "code",
   "execution_count": null,
   "metadata": {},
   "outputs": [],
   "source": [
    "player_ids_2018 = player_filter['player_id'].tolist()"
   ]
  },
  {
   "cell_type": "code",
   "execution_count": null,
   "metadata": {},
   "outputs": [],
   "source": [
    "player_ids_2018"
   ]
  },
  {
   "cell_type": "code",
   "execution_count": null,
   "metadata": {},
   "outputs": [],
   "source": [
    "for baller_id in player_ids_2018:\n",
    "    current_player_id = baller_id\n",
    "    current_player_season = '2017-18'\n",
    "    projections = player_comparison_tool(df_final, current_player_season, current_player_id)\n",
    "    if (projections == None):\n",
    "        continue\n",
    "    final_projections.append(projections)"
   ]
  },
  {
   "cell_type": "code",
   "execution_count": null,
   "metadata": {},
   "outputs": [],
   "source": [
    "player_info_columns = [\n",
    "    'player_name',\n",
    "    'player_id',\n",
    "    'proj_season_id'\n",
    "]"
   ]
  },
  {
   "cell_type": "code",
   "execution_count": null,
   "metadata": {},
   "outputs": [],
   "source": [
    "player_info = final_stat_df[player_info_columns]"
   ]
  },
  {
   "cell_type": "code",
   "execution_count": null,
   "metadata": {},
   "outputs": [],
   "source": [
    "final_stat_df.to_csv('player_proj_df.csv', index=False)\n",
    "player_info.to_csv('player_info_df.csv', index=False)"
   ]
  },
  {
   "cell_type": "code",
   "execution_count": null,
   "metadata": {},
   "outputs": [],
   "source": []
  },
  {
   "cell_type": "code",
   "execution_count": null,
   "metadata": {},
   "outputs": [],
   "source": []
  },
  {
   "cell_type": "code",
   "execution_count": null,
   "metadata": {},
   "outputs": [],
   "source": []
  },
  {
   "cell_type": "code",
   "execution_count": null,
   "metadata": {},
   "outputs": [],
   "source": []
  },
  {
   "cell_type": "code",
   "execution_count": null,
   "metadata": {},
   "outputs": [],
   "source": []
  },
  {
   "cell_type": "code",
   "execution_count": null,
   "metadata": {},
   "outputs": [],
   "source": []
  },
  {
   "cell_type": "code",
   "execution_count": null,
   "metadata": {},
   "outputs": [],
   "source": []
  },
  {
   "cell_type": "code",
   "execution_count": null,
   "metadata": {},
   "outputs": [],
   "source": []
  },
  {
   "cell_type": "code",
   "execution_count": null,
   "metadata": {},
   "outputs": [],
   "source": []
  },
  {
   "cell_type": "code",
   "execution_count": null,
   "metadata": {},
   "outputs": [],
   "source": []
  },
  {
   "cell_type": "code",
   "execution_count": null,
   "metadata": {},
   "outputs": [],
   "source": []
  },
  {
   "cell_type": "code",
   "execution_count": null,
   "metadata": {},
   "outputs": [],
   "source": []
  },
  {
   "cell_type": "code",
   "execution_count": null,
   "metadata": {},
   "outputs": [],
   "source": []
  },
  {
   "cell_type": "code",
   "execution_count": null,
   "metadata": {},
   "outputs": [],
   "source": []
  },
  {
   "cell_type": "code",
   "execution_count": null,
   "metadata": {},
   "outputs": [],
   "source": []
  },
  {
   "cell_type": "code",
   "execution_count": null,
   "metadata": {},
   "outputs": [],
   "source": []
  },
  {
   "cell_type": "code",
   "execution_count": null,
   "metadata": {},
   "outputs": [],
   "source": []
  },
  {
   "cell_type": "code",
   "execution_count": null,
   "metadata": {},
   "outputs": [],
   "source": []
  }
 ],
 "metadata": {
  "kernelspec": {
   "display_name": "Python 3",
   "language": "python",
   "name": "python3"
  },
  "language_info": {
   "codemirror_mode": {
    "name": "ipython",
    "version": 3
   },
   "file_extension": ".py",
   "mimetype": "text/x-python",
   "name": "python",
   "nbconvert_exporter": "python",
   "pygments_lexer": "ipython3",
   "version": "3.8.1"
  }
 },
 "nbformat": 4,
 "nbformat_minor": 4
}
