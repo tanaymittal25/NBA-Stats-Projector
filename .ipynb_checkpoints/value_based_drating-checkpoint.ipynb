{
 "cells": [
  {
   "cell_type": "markdown",
   "metadata": {},
   "source": [
    "# Getting Baseline Numbers"
   ]
  },
  {
   "cell_type": "code",
   "execution_count": 1,
   "metadata": {},
   "outputs": [],
   "source": [
    "import pandas as pd\n",
    "import numpy as np"
   ]
  },
  {
   "cell_type": "code",
   "execution_count": 2,
   "metadata": {},
   "outputs": [],
   "source": [
    "draft_df = pd.read_csv('Fantasy Projections - 2018_19 - 2018_espn_draft.csv')"
   ]
  },
  {
   "cell_type": "code",
   "execution_count": 3,
   "metadata": {},
   "outputs": [
    {
     "data": {
      "text/html": [
       "<div>\n",
       "<style scoped>\n",
       "    .dataframe tbody tr th:only-of-type {\n",
       "        vertical-align: middle;\n",
       "    }\n",
       "\n",
       "    .dataframe tbody tr th {\n",
       "        vertical-align: top;\n",
       "    }\n",
       "\n",
       "    .dataframe thead th {\n",
       "        text-align: right;\n",
       "    }\n",
       "</style>\n",
       "<table border=\"1\" class=\"dataframe\">\n",
       "  <thead>\n",
       "    <tr style=\"text-align: right;\">\n",
       "      <th></th>\n",
       "      <th>pick</th>\n",
       "      <th>player</th>\n",
       "      <th>position</th>\n",
       "    </tr>\n",
       "  </thead>\n",
       "  <tbody>\n",
       "    <tr>\n",
       "      <th>53</th>\n",
       "      <td>54</td>\n",
       "      <td>Nikola Vucevic</td>\n",
       "      <td>C</td>\n",
       "    </tr>\n",
       "    <tr>\n",
       "      <th>14</th>\n",
       "      <td>15</td>\n",
       "      <td>John Wall</td>\n",
       "      <td>PG</td>\n",
       "    </tr>\n",
       "    <tr>\n",
       "      <th>52</th>\n",
       "      <td>53</td>\n",
       "      <td>Clint Capela</td>\n",
       "      <td>C</td>\n",
       "    </tr>\n",
       "    <tr>\n",
       "      <th>28</th>\n",
       "      <td>29</td>\n",
       "      <td>CJ McCollum</td>\n",
       "      <td>PG</td>\n",
       "    </tr>\n",
       "    <tr>\n",
       "      <th>8</th>\n",
       "      <td>9</td>\n",
       "      <td>LeBron James</td>\n",
       "      <td>SF</td>\n",
       "    </tr>\n",
       "    <tr>\n",
       "      <th>45</th>\n",
       "      <td>46</td>\n",
       "      <td>Andrew Wiggins</td>\n",
       "      <td>SG</td>\n",
       "    </tr>\n",
       "    <tr>\n",
       "      <th>64</th>\n",
       "      <td>65</td>\n",
       "      <td>Robert Covington</td>\n",
       "      <td>PF</td>\n",
       "    </tr>\n",
       "    <tr>\n",
       "      <th>27</th>\n",
       "      <td>28</td>\n",
       "      <td>Eric Gordon</td>\n",
       "      <td>SG</td>\n",
       "    </tr>\n",
       "    <tr>\n",
       "      <th>18</th>\n",
       "      <td>19</td>\n",
       "      <td>Klay Thompson</td>\n",
       "      <td>SG</td>\n",
       "    </tr>\n",
       "    <tr>\n",
       "      <th>87</th>\n",
       "      <td>88</td>\n",
       "      <td>Jamal Crawford</td>\n",
       "      <td>SG</td>\n",
       "    </tr>\n",
       "  </tbody>\n",
       "</table>\n",
       "</div>"
      ],
      "text/plain": [
       "    pick            player position\n",
       "53    54    Nikola Vucevic        C\n",
       "14    15         John Wall       PG\n",
       "52    53      Clint Capela        C\n",
       "28    29       CJ McCollum       PG\n",
       "8      9      LeBron James       SF\n",
       "45    46    Andrew Wiggins       SG\n",
       "64    65  Robert Covington       PF\n",
       "27    28       Eric Gordon       SG\n",
       "18    19     Klay Thompson       SG\n",
       "87    88    Jamal Crawford       SG"
      ]
     },
     "execution_count": 3,
     "metadata": {},
     "output_type": "execute_result"
    }
   ],
   "source": [
    "draft_df.sample(10)"
   ]
  },
  {
   "cell_type": "code",
   "execution_count": 4,
   "metadata": {},
   "outputs": [],
   "source": [
    "df_top_80 = draft_df[draft_df['pick'] <= 80]"
   ]
  },
  {
   "cell_type": "code",
   "execution_count": 5,
   "metadata": {},
   "outputs": [
    {
     "data": {
      "text/html": [
       "<div>\n",
       "<style scoped>\n",
       "    .dataframe tbody tr th:only-of-type {\n",
       "        vertical-align: middle;\n",
       "    }\n",
       "\n",
       "    .dataframe tbody tr th {\n",
       "        vertical-align: top;\n",
       "    }\n",
       "\n",
       "    .dataframe thead th {\n",
       "        text-align: right;\n",
       "    }\n",
       "</style>\n",
       "<table border=\"1\" class=\"dataframe\">\n",
       "  <thead>\n",
       "    <tr style=\"text-align: right;\">\n",
       "      <th></th>\n",
       "      <th>pick</th>\n",
       "      <th>player</th>\n",
       "      <th>position</th>\n",
       "    </tr>\n",
       "  </thead>\n",
       "  <tbody>\n",
       "    <tr>\n",
       "      <th>75</th>\n",
       "      <td>76</td>\n",
       "      <td>Gary Harris</td>\n",
       "      <td>SG</td>\n",
       "    </tr>\n",
       "    <tr>\n",
       "      <th>76</th>\n",
       "      <td>77</td>\n",
       "      <td>Lonzo Ball</td>\n",
       "      <td>PG</td>\n",
       "    </tr>\n",
       "    <tr>\n",
       "      <th>77</th>\n",
       "      <td>78</td>\n",
       "      <td>Rodney Hood</td>\n",
       "      <td>SG</td>\n",
       "    </tr>\n",
       "    <tr>\n",
       "      <th>78</th>\n",
       "      <td>79</td>\n",
       "      <td>Zach Randolph</td>\n",
       "      <td>PF</td>\n",
       "    </tr>\n",
       "    <tr>\n",
       "      <th>79</th>\n",
       "      <td>80</td>\n",
       "      <td>Brandon Ingram</td>\n",
       "      <td>PF</td>\n",
       "    </tr>\n",
       "  </tbody>\n",
       "</table>\n",
       "</div>"
      ],
      "text/plain": [
       "    pick          player position\n",
       "75    76     Gary Harris       SG\n",
       "76    77      Lonzo Ball       PG\n",
       "77    78     Rodney Hood       SG\n",
       "78    79   Zach Randolph       PF\n",
       "79    80  Brandon Ingram       PF"
      ]
     },
     "execution_count": 5,
     "metadata": {},
     "output_type": "execute_result"
    }
   ],
   "source": [
    "df_top_80.tail(5)"
   ]
  },
  {
   "cell_type": "code",
   "execution_count": 6,
   "metadata": {},
   "outputs": [
    {
     "data": {
      "text/html": [
       "<div>\n",
       "<style scoped>\n",
       "    .dataframe tbody tr th:only-of-type {\n",
       "        vertical-align: middle;\n",
       "    }\n",
       "\n",
       "    .dataframe tbody tr th {\n",
       "        vertical-align: top;\n",
       "    }\n",
       "\n",
       "    .dataframe thead th {\n",
       "        text-align: right;\n",
       "    }\n",
       "</style>\n",
       "<table border=\"1\" class=\"dataframe\">\n",
       "  <thead>\n",
       "    <tr style=\"text-align: right;\">\n",
       "      <th></th>\n",
       "      <th>pick</th>\n",
       "      <th>player</th>\n",
       "    </tr>\n",
       "    <tr>\n",
       "      <th>position</th>\n",
       "      <th></th>\n",
       "      <th></th>\n",
       "    </tr>\n",
       "  </thead>\n",
       "  <tbody>\n",
       "    <tr>\n",
       "      <th>C</th>\n",
       "      <td>15</td>\n",
       "      <td>15</td>\n",
       "    </tr>\n",
       "    <tr>\n",
       "      <th>PF</th>\n",
       "      <td>19</td>\n",
       "      <td>19</td>\n",
       "    </tr>\n",
       "    <tr>\n",
       "      <th>PG</th>\n",
       "      <td>21</td>\n",
       "      <td>21</td>\n",
       "    </tr>\n",
       "    <tr>\n",
       "      <th>SF</th>\n",
       "      <td>12</td>\n",
       "      <td>12</td>\n",
       "    </tr>\n",
       "    <tr>\n",
       "      <th>SG</th>\n",
       "      <td>13</td>\n",
       "      <td>13</td>\n",
       "    </tr>\n",
       "  </tbody>\n",
       "</table>\n",
       "</div>"
      ],
      "text/plain": [
       "          pick  player\n",
       "position              \n",
       "C           15      15\n",
       "PF          19      19\n",
       "PG          21      21\n",
       "SF          12      12\n",
       "SG          13      13"
      ]
     },
     "execution_count": 6,
     "metadata": {},
     "output_type": "execute_result"
    }
   ],
   "source": [
    "df_top_80.groupby('position').count()"
   ]
  },
  {
   "cell_type": "code",
   "execution_count": 7,
   "metadata": {},
   "outputs": [],
   "source": [
    "df1 = pd.read_csv('Fantasy Projections - 2018_19 - 2018_espn_player_positions.csv')\n",
    "df2 = pd.read_csv('projected_fantasy_pts_final_2018_19.csv')"
   ]
  },
  {
   "cell_type": "code",
   "execution_count": 8,
   "metadata": {},
   "outputs": [
    {
     "data": {
      "text/html": [
       "<div>\n",
       "<style scoped>\n",
       "    .dataframe tbody tr th:only-of-type {\n",
       "        vertical-align: middle;\n",
       "    }\n",
       "\n",
       "    .dataframe tbody tr th {\n",
       "        vertical-align: top;\n",
       "    }\n",
       "\n",
       "    .dataframe thead th {\n",
       "        text-align: right;\n",
       "    }\n",
       "</style>\n",
       "<table border=\"1\" class=\"dataframe\">\n",
       "  <thead>\n",
       "    <tr style=\"text-align: right;\">\n",
       "      <th></th>\n",
       "      <th>player_name</th>\n",
       "      <th>player_id</th>\n",
       "      <th>season_id</th>\n",
       "      <th>espn_position</th>\n",
       "    </tr>\n",
       "  </thead>\n",
       "  <tbody>\n",
       "    <tr>\n",
       "      <th>3</th>\n",
       "      <td>Anthony Davis</td>\n",
       "      <td>203076</td>\n",
       "      <td>2018-19</td>\n",
       "      <td>PF</td>\n",
       "    </tr>\n",
       "  </tbody>\n",
       "</table>\n",
       "</div>"
      ],
      "text/plain": [
       "     player_name  player_id season_id espn_position\n",
       "3  Anthony Davis     203076   2018-19            PF"
      ]
     },
     "execution_count": 8,
     "metadata": {},
     "output_type": "execute_result"
    }
   ],
   "source": [
    "df1.sample()"
   ]
  },
  {
   "cell_type": "code",
   "execution_count": 9,
   "metadata": {},
   "outputs": [
    {
     "data": {
      "text/html": [
       "<div>\n",
       "<style scoped>\n",
       "    .dataframe tbody tr th:only-of-type {\n",
       "        vertical-align: middle;\n",
       "    }\n",
       "\n",
       "    .dataframe tbody tr th {\n",
       "        vertical-align: top;\n",
       "    }\n",
       "\n",
       "    .dataframe thead th {\n",
       "        text-align: right;\n",
       "    }\n",
       "</style>\n",
       "<table border=\"1\" class=\"dataframe\">\n",
       "  <thead>\n",
       "    <tr style=\"text-align: right;\">\n",
       "      <th></th>\n",
       "      <th>player_name</th>\n",
       "      <th>player_id</th>\n",
       "      <th>season_id</th>\n",
       "      <th>pts</th>\n",
       "      <th>min</th>\n",
       "      <th>fgm</th>\n",
       "      <th>fga</th>\n",
       "      <th>fg3m</th>\n",
       "      <th>fg3a</th>\n",
       "      <th>ftm</th>\n",
       "      <th>fta</th>\n",
       "      <th>oreb</th>\n",
       "      <th>dreb</th>\n",
       "      <th>ast</th>\n",
       "      <th>stl</th>\n",
       "      <th>tov</th>\n",
       "      <th>blk</th>\n",
       "      <th>fantasy_pts</th>\n",
       "    </tr>\n",
       "  </thead>\n",
       "  <tbody>\n",
       "    <tr>\n",
       "      <th>248</th>\n",
       "      <td>Jose Calderon</td>\n",
       "      <td>101181</td>\n",
       "      <td>2018-19</td>\n",
       "      <td>6.44</td>\n",
       "      <td>17.61</td>\n",
       "      <td>2.44</td>\n",
       "      <td>5.77</td>\n",
       "      <td>0.74</td>\n",
       "      <td>1.98</td>\n",
       "      <td>0.87</td>\n",
       "      <td>1.08</td>\n",
       "      <td>0.29</td>\n",
       "      <td>1.4</td>\n",
       "      <td>2.66</td>\n",
       "      <td>0.64</td>\n",
       "      <td>1.2</td>\n",
       "      <td>0.11</td>\n",
       "      <td>6.78</td>\n",
       "    </tr>\n",
       "  </tbody>\n",
       "</table>\n",
       "</div>"
      ],
      "text/plain": [
       "       player_name  player_id season_id   pts    min   fgm   fga  fg3m  fg3a  \\\n",
       "248  Jose Calderon     101181   2018-19  6.44  17.61  2.44  5.77  0.74  1.98   \n",
       "\n",
       "      ftm   fta  oreb  dreb   ast   stl  tov   blk  fantasy_pts  \n",
       "248  0.87  1.08  0.29   1.4  2.66  0.64  1.2  0.11         6.78  "
      ]
     },
     "execution_count": 9,
     "metadata": {},
     "output_type": "execute_result"
    }
   ],
   "source": [
    "df2.sample()"
   ]
  },
  {
   "cell_type": "code",
   "execution_count": 10,
   "metadata": {},
   "outputs": [],
   "source": [
    "df3 = df1.merge(df2, how='left', on='player_id')"
   ]
  },
  {
   "cell_type": "code",
   "execution_count": 11,
   "metadata": {},
   "outputs": [
    {
     "data": {
      "text/html": [
       "<div>\n",
       "<style scoped>\n",
       "    .dataframe tbody tr th:only-of-type {\n",
       "        vertical-align: middle;\n",
       "    }\n",
       "\n",
       "    .dataframe tbody tr th {\n",
       "        vertical-align: top;\n",
       "    }\n",
       "\n",
       "    .dataframe thead th {\n",
       "        text-align: right;\n",
       "    }\n",
       "</style>\n",
       "<table border=\"1\" class=\"dataframe\">\n",
       "  <thead>\n",
       "    <tr style=\"text-align: right;\">\n",
       "      <th></th>\n",
       "      <th>player_name_x</th>\n",
       "      <th>player_id</th>\n",
       "      <th>season_id_x</th>\n",
       "      <th>espn_position</th>\n",
       "      <th>player_name_y</th>\n",
       "      <th>season_id_y</th>\n",
       "      <th>pts</th>\n",
       "      <th>min</th>\n",
       "      <th>fgm</th>\n",
       "      <th>fga</th>\n",
       "      <th>...</th>\n",
       "      <th>fg3a</th>\n",
       "      <th>ftm</th>\n",
       "      <th>fta</th>\n",
       "      <th>oreb</th>\n",
       "      <th>dreb</th>\n",
       "      <th>ast</th>\n",
       "      <th>stl</th>\n",
       "      <th>tov</th>\n",
       "      <th>blk</th>\n",
       "      <th>fantasy_pts</th>\n",
       "    </tr>\n",
       "  </thead>\n",
       "  <tbody>\n",
       "    <tr>\n",
       "      <th>117</th>\n",
       "      <td>J.J. Barea</td>\n",
       "      <td>200826</td>\n",
       "      <td>2018-19</td>\n",
       "      <td>PG</td>\n",
       "      <td>J.J. Barea</td>\n",
       "      <td>2018-19</td>\n",
       "      <td>10.76</td>\n",
       "      <td>27.21</td>\n",
       "      <td>4.08</td>\n",
       "      <td>9.7</td>\n",
       "      <td>...</td>\n",
       "      <td>3.97</td>\n",
       "      <td>1.09</td>\n",
       "      <td>1.41</td>\n",
       "      <td>0.33</td>\n",
       "      <td>2.25</td>\n",
       "      <td>5.15</td>\n",
       "      <td>0.71</td>\n",
       "      <td>1.77</td>\n",
       "      <td>0.06</td>\n",
       "      <td>11.56</td>\n",
       "    </tr>\n",
       "  </tbody>\n",
       "</table>\n",
       "<p>1 rows × 21 columns</p>\n",
       "</div>"
      ],
      "text/plain": [
       "    player_name_x  player_id season_id_x espn_position player_name_y  \\\n",
       "117    J.J. Barea     200826     2018-19            PG    J.J. Barea   \n",
       "\n",
       "    season_id_y    pts    min   fgm  fga  ...  fg3a   ftm   fta  oreb  dreb  \\\n",
       "117     2018-19  10.76  27.21  4.08  9.7  ...  3.97  1.09  1.41  0.33  2.25   \n",
       "\n",
       "      ast   stl   tov   blk  fantasy_pts  \n",
       "117  5.15  0.71  1.77  0.06        11.56  \n",
       "\n",
       "[1 rows x 21 columns]"
      ]
     },
     "execution_count": 11,
     "metadata": {},
     "output_type": "execute_result"
    }
   ],
   "source": [
    "df3.sample()"
   ]
  },
  {
   "cell_type": "code",
   "execution_count": 12,
   "metadata": {},
   "outputs": [],
   "source": [
    "df_final = df3[['player_name_x', 'player_id', 'season_id_x', 'espn_position', 'fantasy_pts']]"
   ]
  },
  {
   "cell_type": "code",
   "execution_count": 13,
   "metadata": {},
   "outputs": [
    {
     "data": {
      "text/html": [
       "<div>\n",
       "<style scoped>\n",
       "    .dataframe tbody tr th:only-of-type {\n",
       "        vertical-align: middle;\n",
       "    }\n",
       "\n",
       "    .dataframe tbody tr th {\n",
       "        vertical-align: top;\n",
       "    }\n",
       "\n",
       "    .dataframe thead th {\n",
       "        text-align: right;\n",
       "    }\n",
       "</style>\n",
       "<table border=\"1\" class=\"dataframe\">\n",
       "  <thead>\n",
       "    <tr style=\"text-align: right;\">\n",
       "      <th></th>\n",
       "      <th>player_name_x</th>\n",
       "      <th>player_id</th>\n",
       "      <th>season_id_x</th>\n",
       "      <th>espn_position</th>\n",
       "      <th>fantasy_pts</th>\n",
       "    </tr>\n",
       "  </thead>\n",
       "  <tbody>\n",
       "    <tr>\n",
       "      <th>0</th>\n",
       "      <td>LeBron James</td>\n",
       "      <td>2544</td>\n",
       "      <td>2018-19</td>\n",
       "      <td>SF</td>\n",
       "      <td>29.17</td>\n",
       "    </tr>\n",
       "    <tr>\n",
       "      <th>1</th>\n",
       "      <td>Russell Westbrook</td>\n",
       "      <td>201566</td>\n",
       "      <td>2018-19</td>\n",
       "      <td>PG</td>\n",
       "      <td>28.43</td>\n",
       "    </tr>\n",
       "    <tr>\n",
       "      <th>2</th>\n",
       "      <td>Giannis Antetokounmpo</td>\n",
       "      <td>203507</td>\n",
       "      <td>2018-19</td>\n",
       "      <td>SF</td>\n",
       "      <td>28.36</td>\n",
       "    </tr>\n",
       "    <tr>\n",
       "      <th>3</th>\n",
       "      <td>Anthony Davis</td>\n",
       "      <td>203076</td>\n",
       "      <td>2018-19</td>\n",
       "      <td>PF</td>\n",
       "      <td>27.98</td>\n",
       "    </tr>\n",
       "    <tr>\n",
       "      <th>4</th>\n",
       "      <td>James Harden</td>\n",
       "      <td>201935</td>\n",
       "      <td>2018-19</td>\n",
       "      <td>SG</td>\n",
       "      <td>26.48</td>\n",
       "    </tr>\n",
       "  </tbody>\n",
       "</table>\n",
       "</div>"
      ],
      "text/plain": [
       "           player_name_x  player_id season_id_x espn_position  fantasy_pts\n",
       "0           LeBron James       2544     2018-19            SF        29.17\n",
       "1      Russell Westbrook     201566     2018-19            PG        28.43\n",
       "2  Giannis Antetokounmpo     203507     2018-19            SF        28.36\n",
       "3          Anthony Davis     203076     2018-19            PF        27.98\n",
       "4           James Harden     201935     2018-19            SG        26.48"
      ]
     },
     "execution_count": 13,
     "metadata": {},
     "output_type": "execute_result"
    }
   ],
   "source": [
    "df_final.head()"
   ]
  },
  {
   "cell_type": "code",
   "execution_count": 14,
   "metadata": {},
   "outputs": [],
   "source": [
    "df_final = df_final.rename(columns={\n",
    "    'player_name_x':'player_name',\n",
    "    'seadon_id_x':'season_id'\n",
    "})"
   ]
  },
  {
   "cell_type": "code",
   "execution_count": 15,
   "metadata": {},
   "outputs": [],
   "source": [
    "position_dictionary = {\n",
    "    'PG': 21,\n",
    "    'SG': 13,\n",
    "    'SF': 12,\n",
    "    'PF': 19,\n",
    "    'C': 15\n",
    "}"
   ]
  },
  {
   "cell_type": "code",
   "execution_count": 16,
   "metadata": {},
   "outputs": [],
   "source": [
    "positions = ['PG', 'SG', 'SF', 'PF', 'C']"
   ]
  },
  {
   "cell_type": "code",
   "execution_count": 17,
   "metadata": {},
   "outputs": [],
   "source": [
    "def calc_baseline(position, df):\n",
    "    df_filter = df[df['espn_position'] == position]\n",
    "    x = position_dictionary.get(position)\n",
    "    replacement_player = df_filter.iloc[x]\n",
    "    print(replacement_player)\n",
    "    value_to_subtract = replacement_player['fantasy_pts']\n",
    "    return value_to_subtract"
   ]
  },
  {
   "cell_type": "code",
   "execution_count": 18,
   "metadata": {},
   "outputs": [
    {
     "name": "stdout",
     "output_type": "stream",
     "text": [
      "player_name      Darren Collison\n",
      "player_id                 201954\n",
      "season_id_x              2018-19\n",
      "espn_position                 PG\n",
      "fantasy_pts                12.09\n",
      "Name: 107, dtype: object\n",
      "player_name      JJ Redick\n",
      "player_id           200755\n",
      "season_id_x        2018-19\n",
      "espn_position           SG\n",
      "fantasy_pts          13.14\n",
      "Name: 85, dtype: object\n",
      "player_name      Thaddeus Young\n",
      "player_id                201152\n",
      "season_id_x             2018-19\n",
      "espn_position                SF\n",
      "fantasy_pts               13.86\n",
      "Name: 71, dtype: object\n",
      "player_name      Bobby Portis\n",
      "player_id             1626171\n",
      "season_id_x           2018-19\n",
      "espn_position              PF\n",
      "fantasy_pts             12.81\n",
      "Name: 88, dtype: object\n",
      "player_name      Jonas Valanciunas\n",
      "player_id                   202685\n",
      "season_id_x                2018-19\n",
      "espn_position                    C\n",
      "fantasy_pts                  14.02\n",
      "Name: 68, dtype: object\n"
     ]
    }
   ],
   "source": [
    "baseline_points = {}\n",
    "for position in positions:\n",
    "    y = calc_baseline(position, df_final)\n",
    "    baseline_points[position] = y"
   ]
  },
  {
   "cell_type": "code",
   "execution_count": 19,
   "metadata": {},
   "outputs": [
    {
     "data": {
      "text/html": [
       "<div>\n",
       "<style scoped>\n",
       "    .dataframe tbody tr th:only-of-type {\n",
       "        vertical-align: middle;\n",
       "    }\n",
       "\n",
       "    .dataframe tbody tr th {\n",
       "        vertical-align: top;\n",
       "    }\n",
       "\n",
       "    .dataframe thead th {\n",
       "        text-align: right;\n",
       "    }\n",
       "</style>\n",
       "<table border=\"1\" class=\"dataframe\">\n",
       "  <thead>\n",
       "    <tr style=\"text-align: right;\">\n",
       "      <th></th>\n",
       "      <th>player_name</th>\n",
       "      <th>player_id</th>\n",
       "      <th>season_id_x</th>\n",
       "      <th>espn_position</th>\n",
       "      <th>fantasy_pts</th>\n",
       "    </tr>\n",
       "  </thead>\n",
       "  <tbody>\n",
       "    <tr>\n",
       "      <th>13</th>\n",
       "      <td>Devin Booker</td>\n",
       "      <td>1626164</td>\n",
       "      <td>2018-19</td>\n",
       "      <td>SG</td>\n",
       "      <td>21.28</td>\n",
       "    </tr>\n",
       "  </tbody>\n",
       "</table>\n",
       "</div>"
      ],
      "text/plain": [
       "     player_name  player_id season_id_x espn_position  fantasy_pts\n",
       "13  Devin Booker    1626164     2018-19            SG        21.28"
      ]
     },
     "execution_count": 19,
     "metadata": {},
     "output_type": "execute_result"
    }
   ],
   "source": [
    "df_final.sample()"
   ]
  },
  {
   "cell_type": "code",
   "execution_count": 20,
   "metadata": {},
   "outputs": [
    {
     "data": {
      "text/plain": [
       "{'PG': 12.09, 'SG': 13.14, 'SF': 13.86, 'PF': 12.81, 'C': 14.02}"
      ]
     },
     "execution_count": 20,
     "metadata": {},
     "output_type": "execute_result"
    }
   ],
   "source": [
    "baseline_points"
   ]
  },
  {
   "cell_type": "code",
   "execution_count": null,
   "metadata": {},
   "outputs": [],
   "source": []
  }
 ],
 "metadata": {
  "kernelspec": {
   "display_name": "Python 3",
   "language": "python",
   "name": "python3"
  },
  "language_info": {
   "codemirror_mode": {
    "name": "ipython",
    "version": 3
   },
   "file_extension": ".py",
   "mimetype": "text/x-python",
   "name": "python",
   "nbconvert_exporter": "python",
   "pygments_lexer": "ipython3",
   "version": "3.7.6"
  }
 },
 "nbformat": 4,
 "nbformat_minor": 4
}
